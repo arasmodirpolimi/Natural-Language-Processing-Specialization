{
 "cells": [
  {
   "cell_type": "markdown",
   "metadata": {},
   "source": [
    "# Assignment 3: Hello Vectors\n",
    "\n",
    "Welcome to this week's programming assignment of the specialization. In this assignment we will explore word vectors.\n",
    "In natural language processing, we represent each word as a vector consisting of numbers.\n",
    "The vector encodes the meaning of the word. These numbers (or weights) for each word are learned using various machine\n",
    "learning models, which we will explore in more detail later in this specialization. Rather than make you code the\n",
    "machine learning models from scratch, we will show you how to use them. In the real world, you can always load the\n",
    "trained word vectors, and you will almost never have to train them from scratch. In this assignment you will\n",
    "\n",
    "- Predict analogies between words.\n",
    "- Use PCA to reduce the dimensionality of the word embeddings and plot them in two dimensions.\n",
    "- Compare word embeddings by using a similarity measure (the cosine similarity).\n",
    "- Understand how these vector space models work.\n"
   ]
  },
  {
   "cell_type": "markdown",
   "metadata": {},
   "source": [
    "## Important Note on Submission to the AutoGrader\n",
    "\n",
    "Before submitting your assignment to the AutoGrader, please make sure you are not doing the following:\n",
    "\n",
    "1. You have not added any _extra_ `print` statement(s) in the assignment.\n",
    "2. You have not added any _extra_ code cell(s) in the assignment.\n",
    "3. You have not changed any of the function parameters.\n",
    "4. You are not using any global variables inside your graded exercises. Unless specifically instructed to do so, please refrain from it and use the local variables instead.\n",
    "5. You are not changing the assignment code where it is not required, like creating _extra_ variables.\n",
    "\n",
    "If you do any of the following, you will get something like, `Grader Error: Grader feedback not found` (or similarly unexpected) error upon submitting your assignment. Before asking for help/debugging the errors in your assignment, check for these first. If this is the case, and you don't remember the changes you have made, you can get a fresh copy of the assignment by following these [instructions](https://www.coursera.org/learn/classification-vector-spaces-in-nlp/supplement/YLuAg/h-ow-to-refresh-your-workspace)."
   ]
  },
  {
   "cell_type": "markdown",
   "metadata": {},
   "source": [
    "## Table of Contents\n",
    "\n",
    "- [1 - Predict the Countries from Capitals](#1)\n",
    "    - [1.1 Importing the Data](#1-1)\n",
    "    - [1.2 Cosine Similarity](#1-2)\n",
    "        - [Exercise 1 - cosine_similarity (UNQ_C1)](#ex-1)\n",
    "    - [1.3 Euclidean Distance](#1-3)\n",
    "        - [Exercise 2 - euclidean (UNQ_C2)](#ex-2)\n",
    "    - [1.4 Finding the Country of each Capital](#1-4)\n",
    "        - [Exercise 3 - get_country (UNQ_C3)](#ex-3)\n",
    "    - [1.5 Model Accuracy](#1-5)\n",
    "        - [Exercise 4 - get_accuracy (UNQ_C4)](#ex-4)\n",
    "- [2 - Plotting the vectors using PCA](#2)\n",
    "    - [Exercise 5 - compute_pca (UNQ_C5)](#ex-5)"
   ]
  },
  {
   "cell_type": "markdown",
   "metadata": {},
   "source": [
    "<a name='1'></a>\n",
    "## 1 - Predict the Countries from Capitals\n",
    "\n",
    "During the presentation of the module, we have illustrated the word analogies\n",
    "by finding the capital of a country from the country. In this part of the assignment\n",
    "we have changed the problem a bit. You are asked to predict the **countries** \n",
    "that correspond to some **capitals**.\n",
    "You are playing trivia against some second grader who just took their geography test and knows all the capitals by heart.\n",
    "Thanks to NLP, you will be able to answer the questions properly. In other words, you will write a program that can give\n",
    "you the country by its capital. That way you are pretty sure you will win the trivia game. We will start by exploring the data set.\n",
    "\n",
    "<img src = './images/map.jpg' width=\"width\" height=\"height\" style=\"width:467px;height:300px;\"/>\n",
    "\n",
    "<a name='1-1'></a>\n",
    "###  1.1 Importing the Data\n",
    "\n",
    "As usual, you start by importing some essential Python libraries and the load dataset.\n",
    "The dataset will be loaded as a [Pandas DataFrame](https://pandas.pydata.org/pandas-docs/stable/getting_started/dsintro.html),\n",
    "which is very a common method in data science. Because of the large size of the data,\n",
    "this may take a few minutes."
   ]
  },
  {
   "cell_type": "code",
   "execution_count": 1,
   "metadata": {},
   "outputs": [],
   "source": [
    "# Run this cell to import packages.\n",
    "import pickle\n",
    "import numpy as np\n",
    "import pandas as pd\n",
    "import matplotlib.pyplot as plt\n",
    "import w3_unittest\n",
    "\n",
    "from utils import get_vectors"
   ]
  },
  {
   "cell_type": "code",
   "execution_count": 2,
   "metadata": {},
   "outputs": [
    {
     "data": {
      "text/html": [
       "<div>\n",
       "<style scoped>\n",
       "    .dataframe tbody tr th:only-of-type {\n",
       "        vertical-align: middle;\n",
       "    }\n",
       "\n",
       "    .dataframe tbody tr th {\n",
       "        vertical-align: top;\n",
       "    }\n",
       "\n",
       "    .dataframe thead th {\n",
       "        text-align: right;\n",
       "    }\n",
       "</style>\n",
       "<table border=\"1\" class=\"dataframe\">\n",
       "  <thead>\n",
       "    <tr style=\"text-align: right;\">\n",
       "      <th></th>\n",
       "      <th>city1</th>\n",
       "      <th>country1</th>\n",
       "      <th>city2</th>\n",
       "      <th>country2</th>\n",
       "    </tr>\n",
       "  </thead>\n",
       "  <tbody>\n",
       "    <tr>\n",
       "      <th>0</th>\n",
       "      <td>Athens</td>\n",
       "      <td>Greece</td>\n",
       "      <td>Bangkok</td>\n",
       "      <td>Thailand</td>\n",
       "    </tr>\n",
       "    <tr>\n",
       "      <th>1</th>\n",
       "      <td>Athens</td>\n",
       "      <td>Greece</td>\n",
       "      <td>Beijing</td>\n",
       "      <td>China</td>\n",
       "    </tr>\n",
       "    <tr>\n",
       "      <th>2</th>\n",
       "      <td>Athens</td>\n",
       "      <td>Greece</td>\n",
       "      <td>Berlin</td>\n",
       "      <td>Germany</td>\n",
       "    </tr>\n",
       "    <tr>\n",
       "      <th>3</th>\n",
       "      <td>Athens</td>\n",
       "      <td>Greece</td>\n",
       "      <td>Bern</td>\n",
       "      <td>Switzerland</td>\n",
       "    </tr>\n",
       "    <tr>\n",
       "      <th>4</th>\n",
       "      <td>Athens</td>\n",
       "      <td>Greece</td>\n",
       "      <td>Cairo</td>\n",
       "      <td>Egypt</td>\n",
       "    </tr>\n",
       "  </tbody>\n",
       "</table>\n",
       "</div>"
      ],
      "text/plain": [
       "    city1 country1    city2     country2\n",
       "0  Athens   Greece  Bangkok     Thailand\n",
       "1  Athens   Greece  Beijing        China\n",
       "2  Athens   Greece   Berlin      Germany\n",
       "3  Athens   Greece     Bern  Switzerland\n",
       "4  Athens   Greece    Cairo        Egypt"
      ]
     },
     "execution_count": 2,
     "metadata": {},
     "output_type": "execute_result"
    }
   ],
   "source": [
    "data = pd.read_csv('./data/capitals.txt', delimiter=' ')\n",
    "data.columns = ['city1', 'country1', 'city2', 'country2']\n",
    "\n",
    "# print first five elements in the DataFrame\n",
    "data.head(5)"
   ]
  },
  {
   "cell_type": "markdown",
   "metadata": {},
   "source": [
    "***\n",
    "\n",
    "#### To Run This Code On Your Own Machine:\n",
    "Note that because the original google news word embedding dataset is about 3.64 gigabytes,\n",
    "the workspace is not able to handle the full file set.  So we've downloaded the full dataset,\n",
    "extracted a sample of the words that we're going to analyze in this assignment, and saved\n",
    "it in a pickle file called word_embeddings_capitals.p\n",
    "\n",
    "If you want to download the full dataset on your own and choose your own set of word embeddings,\n",
    "please see the instructions and some helper code.\n",
    "\n",
    "- Download the dataset from this [page](https://code.google.com/archive/p/word2vec/).\n",
    "- Search in the page for 'GoogleNews-vectors-negative300.bin.gz' and click the link to download.\n",
    "- You'll need to unzip the file."
   ]
  },
  {
   "cell_type": "markdown",
   "metadata": {},
   "source": [
    "Copy-paste the code below and run it on your local machine after downloading\n",
    "the dataset to the same directory as the notebook.\n",
    "\n",
    "```python\n",
    "import nltk\n",
    "from gensim.models import KeyedVectors\n",
    "\n",
    "\n",
    "embeddings = KeyedVectors.load_word2vec_format('./GoogleNews-vectors-negative300.bin', binary = True)\n",
    "f = open('capitals.txt', 'r').read()\n",
    "set_words = set(nltk.word_tokenize(f))\n",
    "select_words = words = ['king', 'queen', 'oil', 'gas', 'happy', 'sad', 'city', 'town', 'village', 'country', 'continent', 'petroleum', 'joyful']\n",
    "for w in select_words:\n",
    "    set_words.add(w)\n",
    "\n",
    "def get_word_embeddings(embeddings):\n",
    "\n",
    "    word_embeddings = {}\n",
    "    for word in embeddings.vocab:\n",
    "        if word in set_words:\n",
    "            word_embeddings[word] = embeddings[word]\n",
    "    return word_embeddings\n",
    "\n",
    "\n",
    "# Testing your function\n",
    "word_embeddings = get_word_embeddings(embeddings)\n",
    "print(len(word_embeddings))\n",
    "pickle.dump( word_embeddings, open( \"word_embeddings_subset.p\", \"wb\" ) )\n",
    "```\n",
    "\n",
    "***"
   ]
  },
  {
   "cell_type": "markdown",
   "metadata": {},
   "source": [
    "Now we will load the word embeddings as a [Python dictionary](https://docs.python.org/3/tutorial/datastructures.html#dictionaries).\n",
    "As stated, these have already been obtained through a machine learning algorithm. "
   ]
  },
  {
   "cell_type": "code",
   "execution_count": 3,
   "metadata": {},
   "outputs": [
    {
     "data": {
      "text/plain": [
       "243"
      ]
     },
     "execution_count": 3,
     "metadata": {},
     "output_type": "execute_result"
    }
   ],
   "source": [
    "word_embeddings = pickle.load(open(\"./data/word_embeddings_subset.p\", \"rb\"))\n",
    "len(word_embeddings)  # there should be 243 words that will be used in this assignment"
   ]
  },
  {
   "cell_type": "markdown",
   "metadata": {},
   "source": [
    "Each of the word embedding is a 300-dimensional vector."
   ]
  },
  {
   "cell_type": "code",
   "execution_count": 4,
   "metadata": {},
   "outputs": [
    {
     "name": "stdout",
     "output_type": "stream",
     "text": [
      "dimension: 300\n"
     ]
    }
   ],
   "source": [
    "print(\"dimension: {}\".format(word_embeddings['Spain'].shape[0]))"
   ]
  },
  {
   "cell_type": "markdown",
   "metadata": {},
   "source": [
    "#### Predict relationships among words\n",
    "\n",
    "Now you will write a function that will use the word embeddings to predict relationships among words.\n",
    "* The function will take as input three words.\n",
    "* The first two are related to each other.\n",
    "* It will predict a 4th word which is related to the third word in a similar manner as the two first words are related to each other.\n",
    "* As an example, \"Athens is to Greece as Bangkok is to ______\"?\n",
    "* You will write a program that is capable of finding the fourth word.\n",
    "* We will give you a hint to show you how to compute this.\n",
    "\n",
    "A similar analogy would be the following:\n",
    "\n",
    "<img src = './images/vectors.jpg' width=\"width\" height=\"height\" style=\"width:467px;height:200px;\"/>\n",
    "\n",
    "You will implement a function that can tell you the capital of a country.\n",
    "You should use the same methodology shown in the figure above. To do this,\n",
    "you'll first compute the cosine similarity metric or the Euclidean distance."
   ]
  },
  {
   "cell_type": "markdown",
   "metadata": {},
   "source": [
    "<a name='1-2'></a>\n",
    "### 1.2 Cosine Similarity\n",
    "\n",
    "The cosine similarity function is:\n",
    "\n",
    "$$\\cos (\\theta)=\\frac{\\mathbf{A} \\cdot \\mathbf{B}}{\\|\\mathbf{A}\\|\\|\\mathbf{B}\\|}=\\frac{\\sum_{i=1}^{n} A_{i} B_{i}}{\\sqrt{\\sum_{i=1}^{n} A_{i}^{2}} \\sqrt{\\sum_{i=1}^{n} B_{i}^{2}}}\\tag{1}$$\n",
    "\n",
    "$A$ and $B$ represent the word vectors and $A_i$ or $B_i$ represent index i of that vector. Note that if A and B are identical, you will get $cos(\\theta) = 1$.\n",
    "* Otherwise, if they are the total opposite, meaning, $A= -B$, then you would get $cos(\\theta) = -1$.\n",
    "* If you get $cos(\\theta) =0$, that means that they are orthogonal (or perpendicular).\n",
    "* Numbers between 0 and 1 indicate a similarity score.\n",
    "* Numbers between -1 and 0 indicate a dissimilarity score.\n",
    "\n",
    "<a name='ex-1'></a>\n",
    "### Exercise 1 - cosine_similarity\n",
    "Implement a function that takes in two word vectors and computes the cosine distance."
   ]
  },
  {
   "cell_type": "markdown",
   "metadata": {},
   "source": [
    "<details>\n",
    "<summary>\n",
    "    <font size=\"3\" color=\"darkgreen\"><b>Hints</b></font>\n",
    "</summary>\n",
    "<p>\n",
    "<ul>\n",
    "    <li> Python's<a href=\"https://docs.scipy.org/doc/numpy/reference/\" > NumPy library </a> adds support for linear algebra operations (e.g., dot product, vector norm ...).</li>\n",
    "    <li>Use <a href=\"https://docs.scipy.org/doc/numpy/reference/generated/numpy.dot.html\" > numpy.dot </a>.</li>\n",
    "    <li>Use <a href=\"https://docs.scipy.org/doc/numpy/reference/generated/numpy.linalg.norm.html\">numpy.linalg.norm </a>.</li>\n",
    "</ul>\n",
    "</p>"
   ]
  },
  {
   "cell_type": "code",
   "execution_count": 5,
   "metadata": {},
   "outputs": [],
   "source": [
    "# UNQ_C1 GRADED FUNCTION: cosine_similarity\n",
    "\n",
    "def cosine_similarity(A, B):\n",
    "    '''\n",
    "    Input:\n",
    "        A: a numpy array which corresponds to a word vector\n",
    "        B: A numpy array which corresponds to a word vector\n",
    "    Output:\n",
    "        cos: numerical number representing the cosine similarity between A and B.\n",
    "    '''\n",
    "\n",
    "    ### START CODE HERE ###\n",
    "    dot = np.dot(A, B)    \n",
    "    norma = np.linalg.norm(A)\n",
    "    normb = np.linalg.norm(B)    \n",
    "    cos =  dot / (norma * normb)\n",
    "\n",
    "    ### END CODE HERE ###\n",
    "    return cos"
   ]
  },
  {
   "cell_type": "code",
   "execution_count": 6,
   "metadata": {},
   "outputs": [
    {
     "data": {
      "text/plain": [
       "0.6510956"
      ]
     },
     "execution_count": 6,
     "metadata": {},
     "output_type": "execute_result"
    }
   ],
   "source": [
    "# feel free to try different words\n",
    "king = word_embeddings['king']\n",
    "queen = word_embeddings['queen']\n",
    "\n",
    "cosine_similarity(king, queen)"
   ]
  },
  {
   "cell_type": "markdown",
   "metadata": {},
   "source": [
    "**Expected Output**:\n",
    "\n",
    "$\\approx$ 0.651095"
   ]
  },
  {
   "cell_type": "code",
   "execution_count": 7,
   "metadata": {},
   "outputs": [
    {
     "name": "stdout",
     "output_type": "stream",
     "text": [
      "\u001b[92m All tests passed\n"
     ]
    }
   ],
   "source": [
    "# Test your function\n",
    "w3_unittest.test_cosine_similarity(cosine_similarity)"
   ]
  },
  {
   "cell_type": "markdown",
   "metadata": {},
   "source": [
    "<a name='1-3'></a>\n",
    "### 1.3 Euclidean Distance\n",
    "\n",
    "You will now implement a function that computes the similarity between two vectors using the Euclidean distance.\n",
    "Euclidean distance is defined as:\n",
    "\n",
    "$$ \\begin{aligned} d(\\mathbf{A}, \\mathbf{B})=d(\\mathbf{B}, \\mathbf{A}) &=\\sqrt{\\left(A_{1}-B_{1}\\right)^{2}+\\left(A_{2}-B_{2}\\right)^{2}+\\cdots+\\left(A_{n}-B_{n}\\right)^{2}} \\\\ &=\\sqrt{\\sum_{i=1}^{n}\\left(A_{i}-B_{i}\\right)^{2}} \\end{aligned}$$\n",
    "\n",
    "* $n$ is the number of elements in the vector\n",
    "* $A$ and $B$ are the corresponding word vectors. \n",
    "* The more similar the words, the more likely the Euclidean distance will be close to 0. \n",
    "\n",
    "<a name='ex-2'></a>\n",
    "### Exercise 2 - euclidean\n",
    "Implement a function that computes the Euclidean distance between two vectors."
   ]
  },
  {
   "cell_type": "markdown",
   "metadata": {},
   "source": [
    "<details>    \n",
    "<summary>\n",
    "    <font size=\"3\" color=\"darkgreen\"><b>Hints</b></font>\n",
    "</summary>\n",
    "<p>\n",
    "<ul>\n",
    "    <li>Use <a href=\"https://docs.scipy.org/doc/numpy/reference/generated/numpy.linalg.norm.html\" > numpy.linalg.norm </a>.</li>\n",
    "</ul>\n",
    "</p>"
   ]
  },
  {
   "cell_type": "code",
   "execution_count": 8,
   "metadata": {},
   "outputs": [],
   "source": [
    "# UNQ_C2 GRADED FUNCTION: euclidean\n",
    "\n",
    "def euclidean(A, B):\n",
    "    \"\"\"\n",
    "    Input:\n",
    "        A: a numpy array which corresponds to a word vector\n",
    "        B: A numpy array which corresponds to a word vector\n",
    "    Output:\n",
    "        d: numerical number representing the Euclidean distance between A and B.\n",
    "    \"\"\"\n",
    "\n",
    "    ### START CODE HERE ###\n",
    "\n",
    "    # euclidean distance    \n",
    "    d = np.linalg.norm(A - B)\n",
    "\n",
    "    ### END CODE HERE ###\n",
    "\n",
    "    return d"
   ]
  },
  {
   "cell_type": "code",
   "execution_count": 9,
   "metadata": {},
   "outputs": [
    {
     "data": {
      "text/plain": [
       "2.4796925"
      ]
     },
     "execution_count": 9,
     "metadata": {},
     "output_type": "execute_result"
    }
   ],
   "source": [
    "# Test your function\n",
    "euclidean(king, queen)"
   ]
  },
  {
   "cell_type": "markdown",
   "metadata": {},
   "source": [
    "**Expected Output:**\n",
    "\n",
    "2.4796925"
   ]
  },
  {
   "cell_type": "code",
   "execution_count": 10,
   "metadata": {},
   "outputs": [
    {
     "name": "stdout",
     "output_type": "stream",
     "text": [
      "\u001b[92m All tests passed\n"
     ]
    }
   ],
   "source": [
    "# Test your function\n",
    "w3_unittest.test_euclidean(euclidean)"
   ]
  },
  {
   "cell_type": "markdown",
   "metadata": {},
   "source": [
    "<a name='1-4'></a>\n",
    "### 1.4 Finding the Country of each Capital\n",
    "\n",
    "Now, you  will use the previous functions to compute similarities between vectors,\n",
    "and use these to find the capital cities of countries. You will write a function that\n",
    "takes in three words, and the embeddings dictionary. Your task is to find the\n",
    "capital cities. For example, given the following words: \n",
    "\n",
    "- 1: Athens 2: Greece 3: Baghdad,\n",
    "\n",
    "your task is to predict the country 4: Iraq.\n",
    "\n",
    "<a name='ex-3'></a>\n",
    "### Exercise 3 - get_country\n",
    "**Instructions**: \n",
    "\n",
    "1. To predict the capital you might want to look at the *King - Man + Woman = Queen* example above, and implement that scheme into a mathematical function, using the word embeddings and a similarity function.\n",
    "\n",
    "2. Iterate over the embeddings dictionary and compute the cosine similarity score between your vector and the current word embedding.\n",
    "\n",
    "3. You should add a check to make sure that the word you return is not any of the words that you fed into your function. Return the one with the highest score."
   ]
  },
  {
   "cell_type": "code",
   "execution_count": 11,
   "metadata": {},
   "outputs": [],
   "source": [
    "# UNQ_C3 GRADED FUNCTION: get_country\n",
    "\n",
    "def get_country(city1, country1, city2, word_embeddings, cosine_similarity=cosine_similarity):\n",
    "    \"\"\"\n",
    "    Input:\n",
    "        city1: a string (the capital city of country1)\n",
    "        country1: a string (the country of capital1)\n",
    "        city2: a string (the capital city of country2)\n",
    "        word_embeddings: a dictionary where the keys are words and values are their emmbeddings\n",
    "    Output:\n",
    "        country: a tuple with the most likely country and its similarity score\n",
    "    \"\"\"\n",
    "    ### START CODE HERE ###\n",
    "\n",
    "    # store the city1, country 1, and city 2 in a set called group\n",
    "    group = {city1, country1, city2}\n",
    "\n",
    "    # get embeddings of city 1\n",
    "    city1_emb = word_embeddings[city1]\n",
    "\n",
    "    # get embedding of country 1\n",
    "    country1_emb = word_embeddings[country1]\n",
    "\n",
    "    # get embedding of city 2\n",
    "    city2_emb = word_embeddings[city2]\n",
    "\n",
    "    # get embedding of country 2 (it's a combination of the embeddings of country 1, city 1 and city 2)\n",
    "    # Remember: King - Man + Woman = Queen\n",
    "    vec = city2_emb - city1_emb + country1_emb\n",
    "\n",
    "    # Initialize the similarity to -1 (it will be replaced by a similarities that are closer to +1)\n",
    "    similarity = -1\n",
    "\n",
    "    # initialize country to an empty string\n",
    "    country = ''\n",
    "\n",
    "    # loop through all words in the embeddings dictionary\n",
    "    for word in word_embeddings.keys():\n",
    "\n",
    "        # first check that the word is not already in the 'group'\n",
    "        if word not in group:\n",
    "\n",
    "            # get the word embedding\n",
    "            word_emb = word_embeddings[word]\n",
    "\n",
    "            # calculate cosine similarity between embedding of country 2 and the word in the embeddings dictionary\n",
    "            cur_similarity = cosine_similarity(vec, word_emb)\n",
    "\n",
    "            # if the cosine similarity is more similar than the previously best similarity...\n",
    "            if cur_similarity > similarity:\n",
    "\n",
    "                # update the similarity to the new, better similarity\n",
    "                similarity = cur_similarity\n",
    "\n",
    "                # store the country as a tuple, which contains the word and the similarity\n",
    "                country = (word, similarity)\n",
    "\n",
    "    ### END CODE HERE ###\n",
    "\n",
    "    return country"
   ]
  },
  {
   "cell_type": "code",
   "execution_count": 12,
   "metadata": {},
   "outputs": [
    {
     "data": {
      "text/plain": [
       "('Egypt', 0.7626822)"
      ]
     },
     "execution_count": 12,
     "metadata": {},
     "output_type": "execute_result"
    }
   ],
   "source": [
    "# Testing your function, note to make it more robust you can return the 5 most similar words.\n",
    "get_country('Athens', 'Greece', 'Cairo', word_embeddings)"
   ]
  },
  {
   "cell_type": "markdown",
   "metadata": {},
   "source": [
    "**Expected Output: (Approximately)**\n",
    "\n",
    "('Egypt', 0.7626821)"
   ]
  },
  {
   "cell_type": "code",
   "execution_count": 13,
   "metadata": {},
   "outputs": [
    {
     "name": "stdout",
     "output_type": "stream",
     "text": [
      "\u001b[92m All tests passed\n"
     ]
    }
   ],
   "source": [
    "# Test your function\n",
    "w3_unittest.test_get_country(get_country)"
   ]
  },
  {
   "cell_type": "markdown",
   "metadata": {},
   "source": [
    "<a name='1-5'></a>\n",
    "### 1.5 Model Accuracy\n",
    "\n",
    "Now you will test your new function on the dataset and check the accuracy of the model:\n",
    "\n",
    "$$\\text{Accuracy}=\\frac{\\text{Correct # of predictions}}{\\text{Total # of predictions}}$$\n",
    "\n",
    "<a name='ex-4'></a>\n",
    "### Exercise 4 - get_accuracy\n",
    "**Instructions**: Implement a program that can compute the accuracy on the dataset provided for you. You have to iterate over every row to get the corresponding words and feed them into you `get_country` function above. "
   ]
  },
  {
   "cell_type": "markdown",
   "metadata": {},
   "source": [
    "<details>\n",
    "<summary>\n",
    "    <font size=\"3\" color=\"darkgreen\"><b>Hints</b></font>\n",
    "</summary>\n",
    "<p>\n",
    "<ul>\n",
    "    <li>Use <a href=\"https://pandas.pydata.org/pandas-docs/stable/reference/api/pandas.DataFrame.iterrows.html\" > pandas.DataFrame.iterrows </a>.</li>\n",
    "</ul>\n",
    "</p>"
   ]
  },
  {
   "cell_type": "code",
   "execution_count": 14,
   "metadata": {},
   "outputs": [],
   "source": [
    "# UNQ_C4 GRADED FUNCTION: get_accuracy\n",
    "\n",
    "def get_accuracy(word_embeddings, data, get_country=get_country):\n",
    "    '''\n",
    "    Input:\n",
    "        word_embeddings: a dictionary where the key is a word and the value is its embedding\n",
    "        data: a pandas DataFrame containing all the country and capital city pairs\n",
    "\n",
    "    '''\n",
    "\n",
    "    ### START CODE HERE ###\n",
    "    # initialize num correct to zero\n",
    "    num_correct = 0\n",
    "\n",
    "    # loop through the rows of the dataframe\n",
    "    for i, row in data.iterrows():\n",
    "\n",
    "        # get city1\n",
    "        city1 = row['city1']\n",
    "\n",
    "        # get country1\n",
    "        country1 = row['country1']\n",
    "\n",
    "        # get city2\n",
    "        city2 = row['city2']\n",
    "\n",
    "        # get country2\n",
    "        country2 = row['country2']\n",
    "\n",
    "        # use get_country to find the predicted country2\n",
    "        predicted_country2, _ = get_country(city1, country1, city2, word_embeddings)\n",
    "\n",
    "        # if the predicted country2 is the same as the actual country2...\n",
    "        if predicted_country2 == country2:\n",
    "            # increment the number of correct by 1\n",
    "            num_correct += 1\n",
    "\n",
    "    # get the number of rows in the data dataframe (length of dataframe)\n",
    "    m = len(data)\n",
    "\n",
    "    # calculate the accuracy by dividing the number correct by m\n",
    "    accuracy = num_correct / m\n",
    "\n",
    "    ### END CODE HERE ###\n",
    "    return accuracy\n"
   ]
  },
  {
   "cell_type": "markdown",
   "metadata": {},
   "source": [
    "**NOTE: The cell below takes about 30 SECONDS to run.**"
   ]
  },
  {
   "cell_type": "code",
   "execution_count": 15,
   "metadata": {},
   "outputs": [
    {
     "name": "stdout",
     "output_type": "stream",
     "text": [
      "Accuracy is 0.92\n"
     ]
    }
   ],
   "source": [
    "accuracy = get_accuracy(word_embeddings, data)\n",
    "print(f\"Accuracy is {accuracy:.2f}\")"
   ]
  },
  {
   "cell_type": "markdown",
   "metadata": {},
   "source": [
    "**Expected Output:**\n",
    "\n",
    "$\\approx$ 0.92"
   ]
  },
  {
   "cell_type": "code",
   "execution_count": 16,
   "metadata": {},
   "outputs": [
    {
     "name": "stdout",
     "output_type": "stream",
     "text": [
      "\u001b[92m All tests passed\n"
     ]
    }
   ],
   "source": [
    "# Test your function\n",
    "w3_unittest.test_get_accuracy(get_accuracy, data)"
   ]
  },
  {
   "cell_type": "markdown",
   "metadata": {},
   "source": [
    "<a name='2'></a>\n",
    "## 2 - Plotting the vectors using PCA\n",
    "\n",
    "Now you will explore the distance between word vectors after reducing their dimension.\n",
    "The technique we will employ is known as\n",
    "[*principal component analysis* (PCA)](https://en.wikipedia.org/wiki/Principal_component_analysis).\n",
    "As we saw, we are working in a 300-dimensional space in this case.\n",
    "Although from a computational perspective we were able to perform a good job,\n",
    "it is impossible to visualize results in such high dimensional spaces.\n",
    "\n",
    "You can think of PCA as a method that projects our vectors in a space of reduced\n",
    "dimension, while keeping the maximum information about the original vectors in\n",
    "their reduced counterparts. In this case, by *maximum infomation* we mean that the\n",
    "Euclidean distance between the original vectors and their projected siblings is\n",
    "minimal. Hence vectors that were originally close in the embeddings dictionary,\n",
    "will produce lower dimensional vectors that are still close to each other.\n",
    "\n",
    "You will see that when you map out the words, similar words will be clustered\n",
    "next to each other. For example, the words 'sad', 'happy', 'joyful' all describe\n",
    "emotion and are supposed to be near each other when plotted.\n",
    "The words: 'oil', 'gas', and 'petroleum' all describe natural resources.\n",
    "Words like 'city', 'village', 'town' could be seen as synonyms and describe a\n",
    "similar thing.\n",
    "\n",
    "Before plotting the words, you need to first be able to reduce each word vector\n",
    "with PCA into 2 dimensions and then plot it. The steps to compute PCA are as follows:\n",
    "\n",
    "1. Mean normalize the data\n",
    "2. Compute the covariance matrix of your data ($\\Sigma$). \n",
    "3. Compute the eigenvectors and the eigenvalues of your covariance matrix\n",
    "4. Multiply the first K eigenvectors by your normalized data. The transformation should look something as follows:\n",
    "\n",
    "<img src = './images/word_embf.jpg' width=\"width\" height=\"height\" style=\"width:800px;height:200px;\"/>"
   ]
  },
  {
   "cell_type": "markdown",
   "metadata": {},
   "source": [
    "<a name='ex-5'></a>\n",
    "### Exercise 5 - compute_pca\n",
    "\n",
    "**Instructions**: \n",
    "\n",
    "Implement a program that takes in a data set where each row corresponds to a word vector. \n",
    "* The word vectors are of dimension 300. \n",
    "* Use PCA to change the 300 dimensions to `n_components` dimensions. \n",
    "* The new matrix should be of dimension `m, n_components`. \n",
    "\n",
    "* First de-mean the data\n",
    "* Get the eigenvalues using `linalg.eigh`.  Use 'eigh' rather than 'eig' since R is symmetric.  The performance gain when using eigh instead of eig is substantial.\n",
    "* Sort the eigenvectors and eigenvalues by decreasing order of the eigenvalues.\n",
    "* Get a subset of the eigenvectors (choose how many principle components you want to use using n_components).\n",
    "* Return the new transformation of the data by multiplying the eigenvectors with the original data."
   ]
  },
  {
   "cell_type": "markdown",
   "metadata": {},
   "source": [
    "<details>\n",
    "<summary>\n",
    "    <font size=\"3\" color=\"darkgreen\"><b>Hints</b></font>\n",
    "</summary>\n",
    "<p>\n",
    "<ul>\n",
    "    <li>Use <a href=\"https://docs.scipy.org/doc/numpy/reference/generated/numpy.mean.html\" > numpy.mean(a,axis=None) </a> which takes one required parameter. You need to specify the optional argument axis for this exercise: If you set <code>axis = 0</code>, you take the mean for each column.  If you set <code>axis = 1</code>, you take the mean for each row.  Remember that each row is a word vector, and the number of columns are the number of dimensions in a word vector. </li>\n",
    "    <li>Use <a href=\"https://docs.scipy.org/doc/numpy/reference/generated/numpy.cov.html\" > numpy.cov(m, rowvar=True) </a> which takes one required parameter. You need to specify the optional argument rowvar for this exercise. This calculates the covariance matrix.  By default <code>rowvar</code> is <code>True</code>.  From the documentation: \"If rowvar is True (default), then each row represents a variable, with observations in the columns.\"  In our case, each row is a word vector observation, and each column is a feature (variable). </li>\n",
    "    <li>Use <a href=\"https://docs.scipy.org/doc/numpy/reference/generated/numpy.linalg.eigh.html\" > numpy.linalg.eigh(a, UPLO='L') </a> </li>\n",
    "    <li>Use <a href=\"https://docs.scipy.org/doc/numpy/reference/generated/numpy.argsort.html\" > numpy.argsort </a> sorts the values in an array from smallest to largest, then returns the indices from this sort. </li>\n",
    "    <li>In order to reverse the order of a list, you can use: <code>x[::-1]</code>.</li>\n",
    "    <li>To apply the sorted indices to eigenvalues, you can use this format <code>x[indices_sorted]</code>.</li>\n",
    "    <li>When applying the sorted indices to eigen vectors, note that each column represents an eigenvector.  In order to preserve the rows but sort on the columns, you can use this format <code>x[:,indices_sorted]</code></li>\n",
    "    <li>To transform the data using a subset of the most relevant principle components, take the matrix multiplication of the eigenvectors with the original data.  </li>\n",
    "    <li>The data is of shape <code>(n_observations, n_features)</code>.  </li>\n",
    "    <li>The subset of eigenvectors are in a matrix of shape <code>(n_features, n_components)</code>.</li>\n",
    "    <li>To multiply these together, take the transposes of both the eigenvectors <code>(n_components, n_features)</code> and the data (n_features, n_observations).</li>\n",
    "    <li>The product of these two has dimensions <code>(n_components,n_observations)</code>.  Take its transpose to get the shape <code>(n_observations, n_components)</code>.</li>\n",
    "</ul>\n",
    "</p>"
   ]
  },
  {
   "cell_type": "code",
   "execution_count": 21,
   "metadata": {},
   "outputs": [],
   "source": [
    "# UNQ_C5 GRADED FUNCTION: compute_pca\n",
    "\n",
    "\n",
    "def compute_pca(X, n_components=2):\n",
    "    \"\"\"\n",
    "    Input:\n",
    "        X: of dimension (m,n) where each row corresponds to a word vector\n",
    "        n_components: Number of components you want to keep.\n",
    "    Output:\n",
    "        X_reduced: data transformed in 2 dims/columns + regenerated original data\n",
    "    pass in: data as 2D NumPy array\n",
    "    \"\"\"\n",
    "\n",
    "    ### START CODE HERE ###\n",
    "    # mean center the data\n",
    "#     print(f\"X: {X}\")\n",
    "    \n",
    "    X_demeaned = X - np.mean(X, axis=0)\n",
    "\n",
    "#     print(f\"X_demeaned: {X_demeaned}\")\n",
    "\n",
    "\n",
    "    # calculate the covariance matrix\n",
    "    covariance_matrix = np.cov(X_demeaned, rowvar=False)\n",
    "    \n",
    "#     print(f\"covariance_matrix: {covariance_matrix}\")\n",
    "\n",
    "    # calculate eigenvectors & eigenvalues of the covariance matrix\n",
    "    eigen_vals, eigen_vecs = np.linalg.eigh(covariance_matrix,UPLO='L')\n",
    "    \n",
    "#     print(f\"eigen_vals: {eigen_vals}\")\n",
    "#     print(f\"eigen_vecs: {eigen_vecs}\")\n",
    "\n",
    "    # sort eigenvalue in increasing order (get the indices from the sort)\n",
    "    idx_sorted = eigen_vals.argsort()\n",
    "    \n",
    "#     print(f\"idx_sorted: {idx_sorted}\")\n",
    "    \n",
    "    # reverse the order so that it's from highest to lowest.\n",
    "    idx_sorted_decreasing = np.sort(idx_sorted)[::-1]\n",
    "    \n",
    "#     print(f\"idx_sorted_decreasing: {idx_sorted_decreasing}\")\n",
    "    \n",
    "    # sort the eigen values by idx_sorted_decreasing\n",
    "    eigen_vals_sorted = eigen_vals[idx_sorted_decreasing]\n",
    "    \n",
    "#     print(f\"eigen_vals_sorted: {eigen_vals_sorted}\")\n",
    "\n",
    "    # sort eigenvectors using the idx_sorted_decreasing indices\n",
    "    eigen_vecs_sorted = eigen_vecs[:,idx_sorted_decreasing]\n",
    "    \n",
    "#     print(f\"eigen_vecs_sorted: {eigen_vecs_sorted}\")\n",
    "\n",
    "    # select the first n eigenvectors (n is desired dimension\n",
    "    # of rescaled data array, or n_components)\n",
    "    eigen_vecs_subset = eigen_vecs_sorted[:,:n_components]\n",
    "    \n",
    "#     print(f\"eigen_vecs_subset: {eigen_vecs_subset}\")\n",
    "\n",
    "    # transform the data by multiplying the transpose of the eigenvectors with the transpose of the de-meaned data\n",
    "    # Then take the transpose of that product. Note that, since for any matrices A, B, (A.B).T = B.T . A.T,\n",
    "    # this reduces to the dot product of the de-mean data with the eigenvectors\n",
    "    X_reduced = np.dot(eigen_vecs_subset.T,X_demeaned.T).T\n",
    "    \n",
    "    print(f\"X_reduced: {X_reduced}\")\n",
    "\n",
    "    ### END CODE HERE ###\n",
    "\n",
    "    return X_reduced\n",
    "\n",
    "\n"
   ]
  },
  {
   "cell_type": "code",
   "execution_count": 20,
   "metadata": {},
   "outputs": [
    {
     "name": "stdout",
     "output_type": "stream",
     "text": [
      "X: [[4.17022005e-01 7.20324493e-01 1.14374817e-04 3.02332573e-01\n",
      "  1.46755891e-01 9.23385948e-02 1.86260211e-01 3.45560727e-01\n",
      "  3.96767474e-01 5.38816734e-01]\n",
      " [4.19194514e-01 6.85219500e-01 2.04452250e-01 8.78117436e-01\n",
      "  2.73875932e-02 6.70467510e-01 4.17304802e-01 5.58689828e-01\n",
      "  1.40386939e-01 1.98101489e-01]\n",
      " [8.00744569e-01 9.68261576e-01 3.13424178e-01 6.92322616e-01\n",
      "  8.76389152e-01 8.94606664e-01 8.50442114e-02 3.90547832e-02\n",
      "  1.69830420e-01 8.78142503e-01]]\n",
      "X_demeaned: [[-1.28631691e-01 -7.09440297e-02 -1.72549226e-01 -3.21924969e-01\n",
      "  -2.03421655e-01 -4.60132328e-01 -4.32761970e-02  3.11256141e-02\n",
      "   1.61105863e-01  4.63158497e-04]\n",
      " [-1.26459182e-01 -1.06049023e-01  3.17886488e-02  2.53859895e-01\n",
      "  -3.22789952e-01  1.17996587e-01  1.87768394e-01  2.44254716e-01\n",
      "  -9.52746722e-02 -3.40252086e-01]\n",
      " [ 2.55090873e-01  1.76993053e-01  1.40760577e-01  6.80650741e-02\n",
      "   5.26211607e-01  3.42135741e-01 -1.44492197e-01 -2.75380330e-01\n",
      "  -6.58311912e-02  3.39788928e-01]]\n",
      "covariance_matrix: [[ 4.88046950e-02  3.38429177e-02  2.70410354e-02  1.33348089e-02\n",
      "   1.00609001e-01  6.57707762e-02 -2.75184938e-02 -5.25695002e-02\n",
      "  -1.27339493e-02  6.48227388e-02]\n",
      " [ 3.38429177e-02  2.38029956e-02  1.68919133e-02  3.98205302e-03\n",
      "   7.08994547e-02  4.03429340e-02 -2.12082910e-02 -3.84257778e-02\n",
      "  -6.48868839e-03  4.80954113e-02]\n",
      " [ 2.70410354e-02  1.68919133e-02  2.52986469e-02  3.65993232e-02\n",
      "   4.94545211e-02  6.56528268e-02 -3.45131361e-03 -1.81844337e-02\n",
      "  -2.00468908e-02  1.84664070e-02]\n",
      " [ 1.33348089e-02  3.98205302e-03  3.65993232e-02  8.63566931e-02\n",
      "   9.67985927e-03  1.00685091e-01  2.58818405e-02  1.66212907e-02\n",
      "  -4.02656116e-02 -3.16988513e-02]\n",
      " [ 1.00609001e-01  7.08994547e-02  4.94545211e-02  9.67985927e-03\n",
      "   2.11236189e-01  1.17774282e-01 -6.39199532e-02 -1.15041459e-01\n",
      "  -1.83299257e-02  1.44268308e-01]\n",
      " [ 6.57707762e-02  4.03429340e-02  6.56528268e-02  1.00685091e-01\n",
      "   1.17774282e-01  1.71350909e-01 -3.68356893e-03 -3.98590657e-02\n",
      "  -5.39476528e-02  3.79461186e-02]\n",
      " [-2.75184938e-02 -2.12082910e-02 -3.45131361e-03  2.58818405e-02\n",
      "  -6.39199532e-02 -3.68356893e-03  2.90038970e-02  4.21533131e-02\n",
      "  -7.67476391e-03 -5.65027401e-02]\n",
      " [-5.25695002e-02 -3.84257778e-02 -1.81844337e-02  1.66212907e-02\n",
      "  -1.15041459e-01 -3.98590657e-02  4.21533131e-02  6.82317479e-02\n",
      "  -6.40769360e-05 -8.83324737e-02]\n",
      " [-1.27339493e-02 -6.48868839e-03 -2.00468908e-02 -4.02656116e-02\n",
      "  -1.83299257e-02 -5.39476528e-02 -7.67476391e-03 -6.40769360e-05\n",
      "   1.96830541e-02  5.06165683e-03]\n",
      " [ 6.48227388e-02  4.80954113e-02  1.84664070e-02 -3.16988513e-02\n",
      "   1.44268308e-01  3.79461186e-02 -5.65027401e-02 -8.83324737e-02\n",
      "   5.06165683e-03  1.15614106e-01]]\n",
      "eigen_vals: [-7.03941390e-17 -3.60417070e-17 -1.30858621e-17 -8.61317229e-19\n",
      "  2.07977247e-19  3.78308880e-18  1.81729034e-17  5.06232858e-17\n",
      "  2.50881048e-01  5.48501886e-01]\n",
      "eigen_vecs: [[-8.62414327e-01 -2.56694396e-01  2.14123803e-02 -3.65464124e-03\n",
      "  -3.74506544e-02 -4.03836996e-02 -1.56553129e-01 -2.70841836e-01\n",
      "   1.88121436e-03 -2.98289378e-01]\n",
      " [-3.29309661e-01  3.04399817e-01  1.12224764e-01  3.59044375e-02\n",
      "   2.29801242e-02  1.33075225e-01  3.25446102e-01  7.85293769e-01\n",
      "   3.78517564e-02 -2.06739077e-01]\n",
      " [ 1.87819142e-01 -6.18147267e-01  1.19968071e-01 -2.98746200e-02\n",
      "  -5.75006928e-02 -1.07102136e-02 -5.11284915e-01  4.84039304e-01\n",
      "  -2.01735451e-01 -1.65857022e-01]\n",
      " [-4.20652772e-02  3.25105357e-01 -4.37801744e-01 -4.72579427e-01\n",
      "  -1.94733425e-01  2.40711818e-01 -2.13686058e-01 -2.63117023e-04\n",
      "  -5.73668120e-01 -8.31573118e-02]\n",
      " [ 2.23805479e-01  3.80401557e-01  5.16032016e-01 -4.86764808e-02\n",
      "  -1.21362454e-01  1.15351645e-01 -2.77282609e-01 -1.94139729e-01\n",
      "   1.27507609e-01 -6.14555453e-01]\n",
      " [ 1.59746860e-01 -2.60818962e-01  9.97801283e-02  1.09457118e-01\n",
      "   1.83574048e-01 -6.67072533e-02  5.74767815e-01 -1.62150624e-01\n",
      "  -5.71656816e-01 -4.03640689e-01]\n",
      " [-6.40361647e-02  1.45042422e-01  2.56135146e-01 -5.13757607e-02\n",
      "  -5.28489208e-01 -7.34660430e-01  3.62060096e-02  6.29545338e-02\n",
      "  -2.32922772e-01  1.67521425e-01]\n",
      " [-7.35300366e-02 -8.51947951e-02  3.21840435e-01  3.31636166e-01\n",
      "  -5.14697062e-01  5.87774571e-01  8.13824674e-02 -8.23480629e-02\n",
      "  -2.17117497e-01  3.20679030e-01]\n",
      " [ 1.89017271e-02 -2.92038448e-01  2.64837428e-01 -7.90568092e-01\n",
      "  -1.40259145e-01  1.40116195e-01  3.28628418e-01 -2.80073859e-02\n",
      "   2.54874036e-01  7.85652485e-02]\n",
      " [ 1.58992560e-01 -1.65334248e-01 -5.15086352e-01  1.50011745e-01\n",
      "  -5.86964321e-01 -3.15471259e-03  1.98312007e-01  1.23421956e-02\n",
      "   3.45496594e-01 -3.95200626e-01]]\n",
      "idx_sorted: [0 1 2 3 4 5 6 7 8 9]\n",
      "idx_sorted_decreasing: [9 8 7 6 5 4 3 2 1 0]\n",
      "eigen_vals_sorted: [ 5.48501886e-01  2.50881048e-01  5.06232858e-17  1.81729034e-17\n",
      "  3.78308880e-18  2.07977247e-19 -8.61317229e-19 -1.30858621e-17\n",
      " -3.60417070e-17 -7.03941390e-17]\n",
      "eigen_vecs_sorted: [[-2.98289378e-01  1.88121436e-03 -2.70841836e-01 -1.56553129e-01\n",
      "  -4.03836996e-02 -3.74506544e-02 -3.65464124e-03  2.14123803e-02\n",
      "  -2.56694396e-01 -8.62414327e-01]\n",
      " [-2.06739077e-01  3.78517564e-02  7.85293769e-01  3.25446102e-01\n",
      "   1.33075225e-01  2.29801242e-02  3.59044375e-02  1.12224764e-01\n",
      "   3.04399817e-01 -3.29309661e-01]\n",
      " [-1.65857022e-01 -2.01735451e-01  4.84039304e-01 -5.11284915e-01\n",
      "  -1.07102136e-02 -5.75006928e-02 -2.98746200e-02  1.19968071e-01\n",
      "  -6.18147267e-01  1.87819142e-01]\n",
      " [-8.31573118e-02 -5.73668120e-01 -2.63117023e-04 -2.13686058e-01\n",
      "   2.40711818e-01 -1.94733425e-01 -4.72579427e-01 -4.37801744e-01\n",
      "   3.25105357e-01 -4.20652772e-02]\n",
      " [-6.14555453e-01  1.27507609e-01 -1.94139729e-01 -2.77282609e-01\n",
      "   1.15351645e-01 -1.21362454e-01 -4.86764808e-02  5.16032016e-01\n",
      "   3.80401557e-01  2.23805479e-01]\n",
      " [-4.03640689e-01 -5.71656816e-01 -1.62150624e-01  5.74767815e-01\n",
      "  -6.67072533e-02  1.83574048e-01  1.09457118e-01  9.97801283e-02\n",
      "  -2.60818962e-01  1.59746860e-01]\n",
      " [ 1.67521425e-01 -2.32922772e-01  6.29545338e-02  3.62060096e-02\n",
      "  -7.34660430e-01 -5.28489208e-01 -5.13757607e-02  2.56135146e-01\n",
      "   1.45042422e-01 -6.40361647e-02]\n",
      " [ 3.20679030e-01 -2.17117497e-01 -8.23480629e-02  8.13824674e-02\n",
      "   5.87774571e-01 -5.14697062e-01  3.31636166e-01  3.21840435e-01\n",
      "  -8.51947951e-02 -7.35300366e-02]\n",
      " [ 7.85652485e-02  2.54874036e-01 -2.80073859e-02  3.28628418e-01\n",
      "   1.40116195e-01 -1.40259145e-01 -7.90568092e-01  2.64837428e-01\n",
      "  -2.92038448e-01  1.89017271e-02]\n",
      " [-3.95200626e-01  3.45496594e-01  1.23421956e-02  1.98312007e-01\n",
      "  -3.15471259e-03 -5.86964321e-01  1.50011745e-01 -5.15086352e-01\n",
      "  -1.65334248e-01  1.58992560e-01]]\n",
      "eigen_vecs_subset: [[-0.29828938  0.00188121]\n",
      " [-0.20673908  0.03785176]\n",
      " [-0.16585702 -0.20173545]\n",
      " [-0.08315731 -0.57366812]\n",
      " [-0.61455545  0.12750761]\n",
      " [-0.40364069 -0.57165682]\n",
      " [ 0.16752142 -0.23292277]\n",
      " [ 0.32067903 -0.2171175 ]\n",
      " [ 0.07856525  0.25487404]\n",
      " [-0.39520063  0.34549659]]\n",
      "X_reduced: [[ 0.43437323  0.49820384]\n",
      " [ 0.42077249 -0.50351448]\n",
      " [-0.85514571  0.00531064]]\n",
      "Your original matrix was (3, 10) and it became:\n",
      "[[ 0.43437323  0.49820384]\n",
      " [ 0.42077249 -0.50351448]\n",
      " [-0.85514571  0.00531064]]\n"
     ]
    }
   ],
   "source": [
    "# Testing your function\n",
    "np.random.seed(1)\n",
    "X = np.random.rand(3, 10)\n",
    "X_reduced = compute_pca(X, n_components=2)\n",
    "print(\"Your original matrix was \" + str(X.shape) + \" and it became:\")\n",
    "print(X_reduced)"
   ]
  },
  {
   "cell_type": "code",
   "execution_count": 22,
   "metadata": {},
   "outputs": [
    {
     "name": "stdout",
     "output_type": "stream",
     "text": [
      "X_reduced: [[ 0.43437323  0.49820384]\n",
      " [ 0.42077249 -0.50351448]\n",
      " [-0.85514571  0.00531064]]\n",
      "X_reduced: [[-0.32462796  0.01881248 -0.51389463]\n",
      " [-0.36781353  0.88364184  0.05985815]\n",
      " [-0.75767901 -0.69452193  0.12223214]\n",
      " [ 1.01698297 -0.17990872 -0.33555475]\n",
      " [ 0.43313753 -0.02802368  0.66735909]]\n",
      "\u001b[92m All tests passed\n"
     ]
    }
   ],
   "source": [
    "# Test your function\n",
    "w3_unittest.test_compute_pca(compute_pca)"
   ]
  },
  {
   "cell_type": "markdown",
   "metadata": {},
   "source": [
    "**Expected Output:**\n",
    "\n",
    "Your original matrix was: (3,10) and it became:\n",
    "\n",
    "<table>\n",
    "    <tr>\n",
    "        <td>\n",
    "           0.43437323\n",
    "            </td>\n",
    "                <td>\n",
    "            0.49820384\n",
    "            </td>\n",
    "    </tr>\n",
    "    <tr>\n",
    "        <td>\n",
    "            0.42077249\n",
    "            </td>\n",
    "                <td>\n",
    "           -0.50351448\n",
    "            </td>\n",
    "    </tr>\n",
    "    <tr>\n",
    "        <td>\n",
    "            -0.85514571\n",
    "            </td>\n",
    "                <td>\n",
    "           0.00531064\n",
    "            </td>\n",
    "    </tr>\n",
    "</table>\n",
    "\n",
    "Now you will use your pca function to plot a few words we have chosen for you.\n",
    "You will see that similar words tend to be clustered near each other.\n",
    "Sometimes, even antonyms tend to be clustered near each other. Antonyms\n",
    "describe the same thing but just tend to be on the other end of the scale\n",
    "They are usually found in the same location of a sentence,\n",
    "have the same parts of speech, and thus when\n",
    "learning the word vectors, you end up getting similar weights. In the next week\n",
    "we will go over how you learn them, but for now let's just enjoy using them.\n",
    "\n",
    "**Instructions:** Run the cell below."
   ]
  },
  {
   "cell_type": "code",
   "execution_count": 23,
   "metadata": {},
   "outputs": [
    {
     "name": "stdout",
     "output_type": "stream",
     "text": [
      "You have 11 words each of 300 dimensions thus X.shape is: (11, 300)\n"
     ]
    }
   ],
   "source": [
    "words = ['oil', 'gas', 'happy', 'sad', 'city', 'town',\n",
    "         'village', 'country', 'continent', 'petroleum', 'joyful']\n",
    "\n",
    "# given a list of words and the embeddings, it returns a matrix with all the embeddings\n",
    "X = get_vectors(word_embeddings, words)\n",
    "\n",
    "print('You have 11 words each of 300 dimensions thus X.shape is:', X.shape)"
   ]
  },
  {
   "cell_type": "code",
   "execution_count": 24,
   "metadata": {},
   "outputs": [
    {
     "name": "stdout",
     "output_type": "stream",
     "text": [
      "X_reduced: [[ 2.07403082  0.22656516]\n",
      " [ 1.84412359  0.0385692 ]\n",
      " [-1.01973045  1.26888135]\n",
      " [-1.1757872   1.76076428]\n",
      " [-0.6017798  -1.09324112]\n",
      " [-0.85581146 -1.29616203]\n",
      " [-0.99052561 -1.6122219 ]\n",
      " [-0.31802038 -0.41533402]\n",
      " [-0.21069346 -0.57592554]\n",
      " [ 2.31358423  0.29783528]\n",
      " [-1.05939028  1.40026933]]\n"
     ]
    },
    {
     "data": {
      "image/png": "[encoded data removed]",
      "text/plain": [
       "<Figure size 432x288 with 1 Axes>"
      ]
     },
     "metadata": {
      "needs_background": "light"
     },
     "output_type": "display_data"
    }
   ],
   "source": [
    "# We have done the plotting for you. Just run this cell.\n",
    "result = compute_pca(X, 2)\n",
    "plt.scatter(result[:, 0], result[:, 1])\n",
    "for i, word in enumerate(words):\n",
    "    plt.annotate(word, xy=(result[i, 0] - 0.05, result[i, 1] + 0.1))\n",
    "\n",
    "plt.show()"
   ]
  },
  {
   "cell_type": "markdown",
   "metadata": {},
   "source": [
    "**What do you notice?**\n",
    "\n",
    "The word vectors for gas, oil and petroleum appear related to each other,\n",
    "because their vectors are close to each other.  Similarly, sad, joyful\n",
    "and happy all express emotions, and are also near each other."
   ]
  }
 ],
 "metadata": {
  "jupytext": {
   "encoding": "# -*- coding: utf-8 -*-"
  },
  "kernelspec": {
   "display_name": "Python 3",
   "language": "python",
   "name": "python3"
  },
  "language_info": {
   "codemirror_mode": {
    "name": "ipython",
    "version": 3
   },
   "file_extension": ".py",
   "mimetype": "text/x-python",
   "name": "python",
   "nbconvert_exporter": "python",
   "pygments_lexer": "ipython3",
   "version": "3.7.6"
  }
 },
 "nbformat": 4,
 "nbformat_minor": 5
}
